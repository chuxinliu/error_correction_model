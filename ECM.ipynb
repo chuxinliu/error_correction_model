{
  "nbformat": 4,
  "nbformat_minor": 0,
  "metadata": {
    "colab": {
      "provenance": []
    },
    "kernelspec": {
      "name": "python3",
      "display_name": "Python 3"
    },
    "language_info": {
      "name": "python"
    }
  },
  "cells": [
    {
      "cell_type": "code",
      "execution_count": 94,
      "metadata": {
        "id": "gzUt-koY3hx4"
      },
      "outputs": [],
      "source": [
        "import pandas as pd\n",
        "import statsmodels.api as sm\n",
        "from statsmodels.regression.linear_model import OLS\n",
        "from statsmodels.tsa.ardl import UECM\n",
        "from statsmodels.tsa.stattools import adfuller, coint\n",
        "from statsmodels.datasets import danish_data\n",
        "from statsmodels.tsa.tsatools import add_trend, lagmat, lagmat2ds\n",
        "from statsmodels.tsa.adfvalues import mackinnoncrit, mackinnonp\n",
        "\n",
        "from statsmodels.tools.validation import (\n",
        "    array_like,\n",
        "    bool_like,\n",
        "    dict_like,\n",
        "    float_like,\n",
        "    int_like,\n",
        "    string_like,\n",
        ")"
      ]
    },
    {
      "cell_type": "code",
      "source": [
        "from statsmodels.datasets import danish_data as data\n",
        "df = data.load_pandas().data[1:]\n",
        "print(df.columns)\n",
        "coint(df[df.columns[0]], df[['lry', 'ibo']])"
      ],
      "metadata": {
        "colab": {
          "base_uri": "https://localhost:8080/"
        },
        "id": "ZVFF_OKUvsgy",
        "outputId": "4dd8545e-8a11-401d-a187-2c00eaee88c0"
      },
      "execution_count": 178,
      "outputs": [
        {
          "output_type": "stream",
          "name": "stdout",
          "text": [
            "Index(['lrm', 'lry', 'lpy', 'ibo', 'ide'], dtype='object')\n"
          ]
        },
        {
          "output_type": "execute_result",
          "data": {
            "text/plain": [
              "(-3.705817512135864,\n",
              " 0.05469424768816511,\n",
              " array([-4.57760481, -3.90590515, -3.57075455]))"
            ]
          },
          "metadata": {},
          "execution_count": 178
        }
      ]
    },
    {
      "cell_type": "code",
      "source": [
        "# helper functions\n",
        "def adf_series(series):\n",
        "    \"\"\"\n",
        "    Perform ADF test and print results\n",
        "    \"\"\"\n",
        "    results = adfuller(series)\n",
        "    print(f'p-value: {results[1]}')\n",
        "    if results[1] < 0.05:\n",
        "        print('conclusion: Series is stationary')\n",
        "    else:\n",
        "        print('conclusion: Series is not stationary')\n",
        "\n",
        "def adf_df(df):\n",
        "    for i in df.columns:\n",
        "        print(f' - ADF test for column \"{i}\":')\n",
        "        adf_series(df[i])"
      ],
      "metadata": {
        "id": "llUiiq02GZ8n"
      },
      "execution_count": 179,
      "outputs": []
    },
    {
      "cell_type": "code",
      "source": [
        "df = danish_data.load_pandas().data\n",
        "adf_df(df)"
      ],
      "metadata": {
        "colab": {
          "base_uri": "https://localhost:8080/"
        },
        "id": "vWR61ErlDZlK",
        "outputId": "82e69418-4912-46f3-ee0c-810cc9f7bede"
      },
      "execution_count": 180,
      "outputs": [
        {
          "output_type": "stream",
          "name": "stdout",
          "text": [
            " - ADF test for column \"lrm\":\n",
            "p-value: 0.43014127613057024\n",
            "conclusion: Series is not stationary\n",
            " - ADF test for column \"lry\":\n",
            "p-value: 0.7524010356872576\n",
            "conclusion: Series is not stationary\n",
            " - ADF test for column \"lpy\":\n",
            "p-value: 0.03127456749737955\n",
            "conclusion: Series is stationary\n",
            " - ADF test for column \"ibo\":\n",
            "p-value: 0.4565549115432146\n",
            "conclusion: Series is not stationary\n",
            " - ADF test for column \"ide\":\n",
            "p-value: 0.13237410704936003\n",
            "conclusion: Series is not stationary\n"
          ]
        }
      ]
    },
    {
      "cell_type": "code",
      "source": [
        "lr = OLS(df['lrm'], sm.add_constant(df[['lry','ibo']]))\n",
        "results = lr.fit()\n",
        "print(results.summary())"
      ],
      "metadata": {
        "colab": {
          "base_uri": "https://localhost:8080/"
        },
        "id": "k32_OqEGGRt8",
        "outputId": "efd61ec9-3647-44c2-960c-e1b03f31726a"
      },
      "execution_count": 181,
      "outputs": [
        {
          "output_type": "stream",
          "name": "stdout",
          "text": [
            "                            OLS Regression Results                            \n",
            "==============================================================================\n",
            "Dep. Variable:                    lrm   R-squared:                       0.925\n",
            "Model:                            OLS   Adj. R-squared:                  0.922\n",
            "Method:                 Least Squares   F-statistic:                     320.8\n",
            "Date:                Mon, 11 Nov 2024   Prob (F-statistic):           5.59e-30\n",
            "Time:                        01:55:14   Log-Likelihood:                 97.189\n",
            "No. Observations:                  55   AIC:                            -188.4\n",
            "Df Residuals:                      52   BIC:                            -182.4\n",
            "Df Model:                           2                                         \n",
            "Covariance Type:            nonrobust                                         \n",
            "==============================================================================\n",
            "                 coef    std err          t      P>|t|      [0.025      0.975]\n",
            "------------------------------------------------------------------------------\n",
            "const          4.4676      0.574      7.780      0.000       3.315       5.620\n",
            "lry            1.2872      0.093     13.795      0.000       1.100       1.474\n",
            "ibo           -2.3990      0.220    -10.883      0.000      -2.841      -1.957\n",
            "==============================================================================\n",
            "Omnibus:                        0.053   Durbin-Watson:                   0.711\n",
            "Prob(Omnibus):                  0.974   Jarque-Bera (JB):                0.171\n",
            "Skew:                          -0.068   Prob(JB):                        0.918\n",
            "Kurtosis:                       2.763   Cond. No.                         628.\n",
            "==============================================================================\n",
            "\n",
            "Notes:\n",
            "[1] Standard Errors assume that the covariance matrix of the errors is correctly specified.\n"
          ]
        }
      ]
    },
    {
      "cell_type": "code",
      "source": [
        "residuals = results.resid\n",
        "adf_series(residuals)"
      ],
      "metadata": {
        "colab": {
          "base_uri": "https://localhost:8080/"
        },
        "id": "FZdoVsztIduQ",
        "outputId": "c6dd7895-459a-48c6-8e8f-7748134ab897"
      },
      "execution_count": 182,
      "outputs": [
        {
          "output_type": "stream",
          "name": "stdout",
          "text": [
            "p-value: 0.011923214361739617\n",
            "conclusion: Series is stationary\n"
          ]
        }
      ]
    },
    {
      "cell_type": "code",
      "source": [
        "residuals.plot()"
      ],
      "metadata": {
        "colab": {
          "base_uri": "https://localhost:8080/",
          "height": 466
        },
        "id": "IZgiOiQZKBNa",
        "outputId": "9fb9cda9-8620-4958-b28f-1dabf663a58c"
      },
      "execution_count": 183,
      "outputs": [
        {
          "output_type": "execute_result",
          "data": {
            "text/plain": [
              "<Axes: xlabel='period'>"
            ]
          },
          "metadata": {},
          "execution_count": 183
        },
        {
          "output_type": "display_data",
          "data": {
            "text/plain": [
              "<Figure size 640x480 with 1 Axes>"
            ],
            "image/png": "[encoded data removed]"
          },
          "metadata": {}
        }
      ]
    },
    {
      "cell_type": "code",
      "source": [
        "df['lrm_diff'] = df['lrm'].diff()\n",
        "df['lry_diff'] = df['lry'].diff()\n",
        "df['ibo_diff'] = df['ibo'].diff()\n",
        "df['res_lag'] = residuals.shift(1)"
      ],
      "metadata": {
        "id": "mz-wzUPQI8RK"
      },
      "execution_count": 184,
      "outputs": []
    },
    {
      "cell_type": "code",
      "source": [
        "sr = OLS(df['lrm_diff'][1:], sm.add_constant(df[['lry_diff', 'ibo_diff','res_lag']][1:]))\n",
        "results = sr.fit()\n",
        "print(results.summary())"
      ],
      "metadata": {
        "colab": {
          "base_uri": "https://localhost:8080/"
        },
        "id": "XiSH56wTJ0Vs",
        "outputId": "3bcbeb67-0da3-4142-c37b-b352048f4238"
      },
      "execution_count": 185,
      "outputs": [
        {
          "output_type": "stream",
          "name": "stdout",
          "text": [
            "                            OLS Regression Results                            \n",
            "==============================================================================\n",
            "Dep. Variable:               lrm_diff   R-squared:                       0.483\n",
            "Model:                            OLS   Adj. R-squared:                  0.452\n",
            "Method:                 Least Squares   F-statistic:                     15.56\n",
            "Date:                Mon, 11 Nov 2024   Prob (F-statistic):           2.81e-07\n",
            "Time:                        01:55:20   Log-Likelihood:                 125.66\n",
            "No. Observations:                  54   AIC:                            -243.3\n",
            "Df Residuals:                      50   BIC:                            -235.4\n",
            "Df Model:                           3                                         \n",
            "Covariance Type:            nonrobust                                         \n",
            "==============================================================================\n",
            "                 coef    std err          t      P>|t|      [0.025      0.975]\n",
            "------------------------------------------------------------------------------\n",
            "const          0.0043      0.003      1.273      0.209      -0.002       0.011\n",
            "lry_diff       0.6698      0.134      4.997      0.000       0.401       0.939\n",
            "ibo_diff      -1.0954      0.330     -3.320      0.002      -1.758      -0.433\n",
            "res_lag       -0.3038      0.082     -3.717      0.001      -0.468      -0.140\n",
            "==============================================================================\n",
            "Omnibus:                       13.412   Durbin-Watson:                   2.404\n",
            "Prob(Omnibus):                  0.001   Jarque-Bera (JB):               23.729\n",
            "Skew:                           0.707   Prob(JB):                     7.03e-06\n",
            "Kurtosis:                       5.924   Cond. No.                         98.9\n",
            "==============================================================================\n",
            "\n",
            "Notes:\n",
            "[1] Standard Errors assume that the covariance matrix of the errors is correctly specified.\n"
          ]
        }
      ]
    },
    {
      "cell_type": "code",
      "source": [
        "ecm1s = UECM(endog= df['lrm'], lags=1, exog=df[[\"lry\", \"ibo\"]], order=1,causal=False)"
      ],
      "metadata": {
        "id": "emGesR0QKehE"
      },
      "execution_count": 186,
      "outputs": []
    },
    {
      "cell_type": "code",
      "source": [
        "results = ecm1s.fit()"
      ],
      "metadata": {
        "id": "YDEiCz-jGpWu"
      },
      "execution_count": 187,
      "outputs": []
    },
    {
      "cell_type": "code",
      "source": [
        "print(results.summary())\n"
      ],
      "metadata": {
        "colab": {
          "base_uri": "https://localhost:8080/"
        },
        "id": "fCWqHc6cG-pE",
        "outputId": "b9458701-8552-4b20-f456-ccf4feb06b31"
      },
      "execution_count": 188,
      "outputs": [
        {
          "output_type": "stream",
          "name": "stdout",
          "text": [
            "                              UECM Model Results                              \n",
            "==============================================================================\n",
            "Dep. Variable:                  D.lrm   No. Observations:                   55\n",
            "Model:                  UECM(1, 1, 1)   Log Likelihood                 129.262\n",
            "Method:               Conditional MLE   S.D. of innovations             11.751\n",
            "Date:                Mon, 11 Nov 2024   AIC                           -244.524\n",
            "Time:                        01:55:24   BIC                           -230.601\n",
            "Sample:                    04-01-1974   HQIC                          -239.155\n",
            "                         - 07-01-1987                                         \n",
            "==============================================================================\n",
            "                 coef    std err          z      P>|z|      [0.025      0.975]\n",
            "------------------------------------------------------------------------------\n",
            "const          1.8143      0.477      3.803      0.000       0.855       2.773\n",
            "lrm.L1        -0.2923      0.078     -3.741      0.000      -0.449      -0.135\n",
            "lry.L1         0.3007      0.116      2.595      0.012       0.068       0.534\n",
            "ibo.L1        -1.0425      0.222     -4.689      0.000      -1.490      -0.595\n",
            "D.lry.L0       0.5430      0.138      3.936      0.000       0.266       0.820\n",
            "D.ibo.L0      -1.1542      0.320     -3.609      0.001      -1.797      -0.511\n",
            "==============================================================================\n"
          ]
        }
      ]
    },
    {
      "cell_type": "code",
      "source": [],
      "metadata": {
        "id": "NKyFaz3wXEFj"
      },
      "execution_count": null,
      "outputs": []
    }
  ]
}